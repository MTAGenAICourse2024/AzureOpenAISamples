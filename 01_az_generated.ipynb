{
 "cells": [
  {
   "cell_type": "markdown",
   "id": "1b50f4a51d5beb84",
   "metadata": {},
   "source": [
    "## Import necessary libraries"
   ]
  },
  {
   "cell_type": "code",
   "execution_count": null,
   "id": "09bc86d1",
   "metadata": {},
   "outputs": [],
   "source": []
  },
  {
   "cell_type": "code",
   "execution_count": null,
   "id": "3ccb02a1",
   "metadata": {},
   "outputs": [],
   "source": [
    "import os\n",
    "import base64\n",
    "!pip install openai\n",
    "!pip list\n",
    "from openai import AzureOpenAI\n",
    "import dotenv"
   ]
  },
  {
   "cell_type": "code",
   "execution_count": null,
   "id": "bdf3136b",
   "metadata": {},
   "outputs": [],
   "source": []
  },
  {
   "cell_type": "markdown",
   "id": "a81556523b04feb3",
   "metadata": {},
   "source": [
    "## Load the relevant environment variables"
   ]
  },
  {
   "cell_type": "code",
   "execution_count": null,
   "id": "01435adc",
   "metadata": {},
   "outputs": [],
   "source": [
    "dotenv.load_dotenv()\n",
    "\n",
    "endpoint = os.getenv(\"ENDPOINT_URL\")\n",
    "deployment = os.getenv(\"DEPLOYMENT_NAME\", \"gpt-4-32k\")\n",
    "subscription_key = os.getenv(\"AZURE_OPENAI_API_KEY\")\n",
    "api_version = os.getenv(\"AZURE_OPENAI_API_VERSION\", \"2025-01-01-preview\")"
   ]
  },
  {
   "cell_type": "markdown",
   "id": "63504e0c",
   "metadata": {},
   "source": [
    "\n",
    "## Initialize Azure OpenAI Service client with key-based authentication"
   ]
  },
  {
   "cell_type": "code",
   "execution_count": null,
   "id": "2e5add1d",
   "metadata": {},
   "outputs": [],
   "source": [
    "client = AzureOpenAI(\n",
    "    azure_endpoint=endpoint,\n",
    "    api_key=subscription_key,\n",
    "    api_version=api_version,\n",
    ")\n",
    "# IMAGE_PATH = \"YOUR_IMAGE_PATH\"\n",
    "# encoded_image = base64.b64encode(open(IMAGE_PATH, 'rb').read()).decode('ascii')"
   ]
  },
  {
   "cell_type": "markdown",
   "id": "6fcd3554",
   "metadata": {},
   "source": [
    "## Prepare the chat prompt - System Prompt "
   ]
  },
  {
   "cell_type": "code",
   "execution_count": null,
   "id": "69fdfbb2",
   "metadata": {},
   "outputs": [],
   "source": [
    "system_prompt = \"You are an AI assistant that helps people find information.\""
   ]
  },
  {
   "cell_type": "markdown",
   "id": "b1afe33f",
   "metadata": {},
   "source": [
    "## Prepare the chat prompt - User Prompt "
   ]
  },
  {
   "cell_type": "code",
   "execution_count": null,
   "id": "27574206",
   "metadata": {},
   "outputs": [],
   "source": [
    "user_prompt = \"What is the capital of Finland?\""
   ]
  },
  {
   "cell_type": "code",
   "execution_count": null,
   "id": "11a0d31a7b0843a9",
   "metadata": {},
   "outputs": [],
   "source": [
    "chat_prompt = [\n",
    "    {\n",
    "        \"role\": \"system\",\n",
    "        \"content\": [\n",
    "            {\n",
    "                \"type\": \"text\",\n",
    "                \"text\": system_prompt\n",
    "            }\n",
    "        ]\n",
    "    },\n",
    "\n",
    "    {\n",
    "        \"role\": \"user\",\n",
    "        \"content\": [\n",
    "            {\n",
    "                \"type\": \"text\",\n",
    "                \"text\": user_prompt\n",
    "            }\n",
    "        ]\n",
    "    }\n",
    "]\n",
    "\n",
    "messages = chat_prompt"
   ]
  },
  {
   "cell_type": "markdown",
   "id": "8f66a478",
   "metadata": {},
   "source": [
    "## Ask LLM (generate chat completion) "
   ]
  },
  {
   "cell_type": "code",
   "execution_count": null,
   "metadata": {},
   "outputs": [],
   "source": [
    "completion = client.chat.completions.create(\n",
    "    model=deployment,\n",
    "    messages=messages,\n",
    "    max_tokens=800,\n",
    "    temperature=0.7,\n",
    "    top_p=0.95,\n",
    "    frequency_penalty=0,\n",
    "    presence_penalty=0,\n",
    "    stop=None,\n",
    "    stream=False\n",
    ")"
   ]
  },
  {
   "cell_type": "markdown",
   "id": "79cb2675",
   "metadata": {},
   "source": [
    "## Now let's see the result:\n",
    "\n"
   ]
  },
  {
   "cell_type": "code",
   "execution_count": null,
   "id": "e1ad22d9153bf651",
   "metadata": {},
   "outputs": [],
   "source": [
    "print(completion.to_json())\n",
    "print(completion.model_dump_json(indent=3))"
   ]
  },
  {
   "cell_type": "markdown",
   "id": "96fc6f71",
   "metadata": {},
   "source": [
    "## And specifically just the answer from the LLM:\n"
   ]
  },
  {
   "cell_type": "code",
   "execution_count": null,
   "id": "f2754110",
   "metadata": {},
   "outputs": [],
   "source": [
    "\n",
    "print(\"-\" * 40, \"\\nResponse from LLM:\\n\")\n",
    "print(completion.choices[0].message.content)\n",
    "print(\"\\n\", \"-\" * 40)"
   ]
  },
  {
   "cell_type": "markdown",
   "id": "19cdcc75",
   "metadata": {},
   "source": [
    "## Overall Token consumption "
   ]
  },
  {
   "cell_type": "code",
   "execution_count": null,
   "id": "8519b85a",
   "metadata": {},
   "outputs": [],
   "source": [
    "print(\"-\" * 40, \"\\n\")\n",
    "print(f\"$ prompt_tokens: {completion.usage.prompt_tokens}\")\n",
    "print(f\"$ completion_tokens: {completion.usage.completion_tokens}\")\n",
    "print(f\"$ total_tokens: {completion.usage.total_tokens}\")\n",
    "print(\"-\" * 40, \"\\n\")"
   ]
  }
 ],
 "metadata": {
  "kernelspec": {
   "display_name": "Python 3",
   "language": "python",
   "name": "python3"
  },
  "language_info": {
   "codemirror_mode": {
    "name": "ipython",
    "version": 3
   },
   "file_extension": ".py",
   "mimetype": "text/x-python",
   "name": "python",
   "nbconvert_exporter": "python",
   "pygments_lexer": "ipython3",
   "version": "3.11.9"
  }
 },
 "nbformat": 4,
 "nbformat_minor": 5
}
