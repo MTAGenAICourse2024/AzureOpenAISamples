{
 "cells": [
  {
   "cell_type": "markdown",
   "id": "1b50f4a51d5beb84",
   "metadata": {},
   "source": [
    "## Import necessary libraries"
   ]
  },
  {
   "cell_type": "code",
   "execution_count": null,
   "id": "09bc86d1",
   "metadata": {},
   "outputs": [],
   "source": []
  },
  {
   "cell_type": "code",
   "execution_count": 17,
   "id": "3ccb02a1",
   "metadata": {},
   "outputs": [
    {
     "name": "stdout",
     "output_type": "stream",
     "text": [
      "Requirement already satisfied: openai in c:\\users\\gkamhi\\appdata\\local\\packages\\pythonsoftwarefoundation.python.3.11_qbz5n2kfra8p0\\localcache\\local-packages\\python311\\site-packages (0.28.0)\n",
      "Requirement already satisfied: requests>=2.20 in c:\\users\\gkamhi\\appdata\\local\\packages\\pythonsoftwarefoundation.python.3.11_qbz5n2kfra8p0\\localcache\\local-packages\\python311\\site-packages (from openai) (2.31.0)\n",
      "Requirement already satisfied: tqdm in c:\\users\\gkamhi\\appdata\\local\\packages\\pythonsoftwarefoundation.python.3.11_qbz5n2kfra8p0\\localcache\\local-packages\\python311\\site-packages (from openai) (4.66.2)\n",
      "Requirement already satisfied: aiohttp in c:\\users\\gkamhi\\appdata\\local\\packages\\pythonsoftwarefoundation.python.3.11_qbz5n2kfra8p0\\localcache\\local-packages\\python311\\site-packages (from openai) (3.9.1)\n",
      "Requirement already satisfied: charset-normalizer<4,>=2 in c:\\users\\gkamhi\\appdata\\local\\packages\\pythonsoftwarefoundation.python.3.11_qbz5n2kfra8p0\\localcache\\local-packages\\python311\\site-packages (from requests>=2.20->openai) (3.3.2)\n",
      "Requirement already satisfied: idna<4,>=2.5 in c:\\users\\gkamhi\\appdata\\local\\packages\\pythonsoftwarefoundation.python.3.11_qbz5n2kfra8p0\\localcache\\local-packages\\python311\\site-packages (from requests>=2.20->openai) (3.6)\n",
      "Requirement already satisfied: urllib3<3,>=1.21.1 in c:\\users\\gkamhi\\appdata\\local\\packages\\pythonsoftwarefoundation.python.3.11_qbz5n2kfra8p0\\localcache\\local-packages\\python311\\site-packages (from requests>=2.20->openai) (1.26.18)\n",
      "Requirement already satisfied: certifi>=2017.4.17 in c:\\users\\gkamhi\\appdata\\local\\packages\\pythonsoftwarefoundation.python.3.11_qbz5n2kfra8p0\\localcache\\local-packages\\python311\\site-packages (from requests>=2.20->openai) (2024.2.2)\n",
      "Requirement already satisfied: attrs>=17.3.0 in c:\\users\\gkamhi\\appdata\\local\\packages\\pythonsoftwarefoundation.python.3.11_qbz5n2kfra8p0\\localcache\\local-packages\\python311\\site-packages (from aiohttp->openai) (23.1.0)\n",
      "Requirement already satisfied: multidict<7.0,>=4.5 in c:\\users\\gkamhi\\appdata\\local\\packages\\pythonsoftwarefoundation.python.3.11_qbz5n2kfra8p0\\localcache\\local-packages\\python311\\site-packages (from aiohttp->openai) (6.0.4)\n",
      "Requirement already satisfied: yarl<2.0,>=1.0 in c:\\users\\gkamhi\\appdata\\local\\packages\\pythonsoftwarefoundation.python.3.11_qbz5n2kfra8p0\\localcache\\local-packages\\python311\\site-packages (from aiohttp->openai) (1.9.3)\n",
      "Requirement already satisfied: frozenlist>=1.1.1 in c:\\users\\gkamhi\\appdata\\local\\packages\\pythonsoftwarefoundation.python.3.11_qbz5n2kfra8p0\\localcache\\local-packages\\python311\\site-packages (from aiohttp->openai) (1.4.0)\n",
      "Requirement already satisfied: aiosignal>=1.1.2 in c:\\users\\gkamhi\\appdata\\local\\packages\\pythonsoftwarefoundation.python.3.11_qbz5n2kfra8p0\\localcache\\local-packages\\python311\\site-packages (from aiohttp->openai) (1.3.1)\n",
      "Requirement already satisfied: colorama in c:\\users\\gkamhi\\appdata\\local\\packages\\pythonsoftwarefoundation.python.3.11_qbz5n2kfra8p0\\localcache\\local-packages\\python311\\site-packages (from tqdm->openai) (0.4.6)\n"
     ]
    },
    {
     "name": "stderr",
     "output_type": "stream",
     "text": [
      "\n",
      "[notice] A new release of pip is available: 25.0 -> 25.0.1\n",
      "[notice] To update, run: C:\\Users\\gkamhi\\AppData\\Local\\Microsoft\\WindowsApps\\PythonSoftwareFoundation.Python.3.11_qbz5n2kfra8p0\\python.exe -m pip install --upgrade pip\n"
     ]
    },
    {
     "name": "stdout",
     "output_type": "stream",
     "text": [
      "Package                    Version\n",
      "-------------------------- ------------\n",
      "aiohttp                    3.9.1\n",
      "aiosignal                  1.3.1\n",
      "altair                     5.2.0\n",
      "annotated-types            0.6.0\n",
      "anyio                      3.7.1\n",
      "appdirs                    1.4.4\n",
      "asttokens                  2.4.1\n",
      "astunparse                 1.6.3\n",
      "async-generator            1.10\n",
      "attrs                      23.1.0\n",
      "audioread                  3.0.0\n",
      "azure-common               1.1.28\n",
      "azure-core                 1.30.0\n",
      "azure-identity             1.15.0\n",
      "azure-search-documents     11.4.0b8\n",
      "backoff                    2.2.1\n",
      "beautifulsoup4             4.12.3\n",
      "black                      24.2.0\n",
      "blinker                    1.7.0\n",
      "breadability               0.1.20\n",
      "bs4                        0.0.2\n",
      "by                         0.0.4\n",
      "cachetools                 5.3.2\n",
      "certifi                    2024.2.2\n",
      "cffi                       1.15.1\n",
      "chardet                    5.2.0\n",
      "charset-normalizer         3.3.2\n",
      "click                      8.1.7\n",
      "colorama                   0.4.6\n",
      "comm                       0.2.2\n",
      "common                     0.1.2\n",
      "cryptography               42.0.3\n",
      "dataclasses-json           0.6.4\n",
      "dataclasses-json-speakeasy 0.5.11\n",
      "debugpy                    1.8.1\n",
      "decorator                  5.1.1\n",
      "detect                     2020.12.3\n",
      "dnspython                  2.6.1\n",
      "docopt                     0.6.2\n",
      "emoji                      2.10.1\n",
      "et-xmlfile                 1.1.0\n",
      "exceptiongroup             1.1.1\n",
      "executing                  2.0.1\n",
      "extra-streamlit-components 0.1.70\n",
      "ffmpeg-downloader          0.3.0\n",
      "filelock                   3.13.1\n",
      "filetype                   1.2.0\n",
      "frozenlist                 1.4.0\n",
      "fsspec                     2023.12.0\n",
      "gensim                     3.8.0\n",
      "gitdb                      4.0.11\n",
      "GitPython                  3.1.42\n",
      "greenlet                   3.0.1\n",
      "h11                        0.14.0\n",
      "idna                       3.6\n",
      "importlib-metadata         6.11.0\n",
      "ipykernel                  6.29.4\n",
      "ipython                    8.24.0\n",
      "isodate                    0.6.1\n",
      "jedi                       0.19.1\n",
      "Jinja2                     3.1.2\n",
      "joblib                     1.3.2\n",
      "jsonpatch                  1.33\n",
      "jsonpath-python            1.0.6\n",
      "jsonpointer                2.4\n",
      "jsonschema                 4.21.1\n",
      "jsonschema-specifications  2023.12.1\n",
      "jupyter_client             8.6.1\n",
      "jupyter_core               5.7.2\n",
      "kor                        1.0.0\n",
      "langchain                  0.0.352\n",
      "langchain-community        0.0.6\n",
      "langchain-core             0.1.3\n",
      "langdetect                 1.0.9\n",
      "langsmith                  0.0.92\n",
      "lazy_loader                0.3\n",
      "librosa                    0.10.0.post2\n",
      "llvmlite                   0.40.1\n",
      "lxml                       5.1.0\n",
      "markdown-it-py             3.0.0\n",
      "MarkupSafe                 2.1.3\n",
      "marshmallow                3.20.2\n",
      "matplotlib-inline          0.1.7\n",
      "mdurl                      0.1.2\n",
      "mpmath                     1.3.0\n",
      "msal                       1.26.0\n",
      "msal-extensions            1.1.0\n",
      "msgpack                    1.0.5\n",
      "multidict                  6.0.4\n",
      "mypy-extensions            1.0.0\n",
      "nest-asyncio               1.6.0\n",
      "networkx                   3.2.1\n",
      "nltk                       3.8.1\n",
      "numba                      0.57.1\n",
      "numpy                      1.26.4\n",
      "openai                     0.28.0\n",
      "openpyxl                   3.1.2\n",
      "outcome                    1.2.0\n",
      "packaging                  23.2\n",
      "pandas                     2.2.2\n",
      "parso                      0.8.4\n",
      "pathspec                   0.12.1\n",
      "pillow                     10.2.0\n",
      "pip                        25.0\n",
      "platformdirs               4.1.0\n",
      "pooch                      1.6.0\n",
      "portalocker                2.8.2\n",
      "prompt-toolkit             3.0.43\n",
      "protobuf                   4.25.3\n",
      "psutil                     5.9.8\n",
      "pure-eval                  0.2.2\n",
      "pyarrow                    15.0.0\n",
      "pycountry                  22.3.5\n",
      "pycparser                  2.21\n",
      "pydantic                   2.5.2\n",
      "pydantic_core              2.14.5\n",
      "pydeck                     0.8.1b0\n",
      "pydub                      0.25.1\n",
      "Pygments                   2.17.2\n",
      "PyJWT                      2.8.0\n",
      "pymongo                    4.6.1\n",
      "pypdf                      4.0.2\n",
      "pypiwin32                  223\n",
      "PySocks                    1.7.1\n",
      "pystray                    0.19.5\n",
      "python-dateutil            2.8.2\n",
      "python-dotenv              1.0.1\n",
      "python-iso639              2024.2.7\n",
      "python-magic               0.4.27\n",
      "pytz                       2023.3\n",
      "pywin32                    306\n",
      "PyYAML                     6.0.1\n",
      "pyzmq                      26.0.3\n",
      "rapidfuzz                  3.6.1\n",
      "referencing                0.33.0\n",
      "regex                      2023.12.25\n",
      "requests                   2.31.0\n",
      "rich                       13.7.0\n",
      "roman                      4.1\n",
      "rpds-py                    0.18.0\n",
      "ruamel.yaml                0.18.5\n",
      "ruamel.yaml.clib           0.2.8\n",
      "scikit-learn               1.3.0\n",
      "scipy                      1.10.1\n",
      "selenium                   4.9.0\n",
      "six                        1.16.0\n",
      "smart-open                 6.3.0\n",
      "smmap                      5.0.1\n",
      "sniffio                    1.3.0\n",
      "sortedcontainers           2.4.0\n",
      "soundfile                  0.12.1\n",
      "soupsieve                  2.5\n",
      "soxr                       0.3.5\n",
      "SpeechRecognition          3.10.0\n",
      "SQLAlchemy                 2.0.23\n",
      "sr                         0.1.0\n",
      "stack-data                 0.6.3\n",
      "stopwords                  1.0.0\n",
      "streamlit                  1.29.0\n",
      "streamlit-chat             0.1.1\n",
      "summarization              0.0.1\n",
      "sumy                       0.11.0\n",
      "sympy                      1.12\n",
      "tabulate                   0.9.0\n",
      "tenacity                   8.2.3\n",
      "textblob                   0.17.1\n",
      "threadpoolctl              3.2.0\n",
      "tiktoken                   0.6.0\n",
      "toml                       0.10.2\n",
      "toolz                      0.12.1\n",
      "torch                      2.1.1\n",
      "tornado                    6.4\n",
      "tqdm                       4.66.2\n",
      "traitlets                  5.14.3\n",
      "trio                       0.22.0\n",
      "trio-websocket             0.10.2\n",
      "typing_extensions          4.9.0\n",
      "typing-inspect             0.9.0\n",
      "tzdata                     2023.3\n",
      "tzlocal                    5.2\n",
      "unstructured               0.12.6\n",
      "unstructured-client        0.18.0\n",
      "urllib3                    1.26.18\n",
      "validators                 0.22.0\n",
      "watchdog                   4.0.0\n",
      "Wave                       0.0.2\n",
      "wcwidth                    0.2.13\n",
      "wheel                      0.42.0\n",
      "win10toast                 0.9\n",
      "workbook                   1.1\n",
      "wrapt                      1.16.0\n",
      "wsproto                    1.2.0\n",
      "xlrd                       2.0.1\n",
      "xlutils                    2.0.0\n",
      "xlwt                       1.3.0\n",
      "yarl                       1.9.3\n",
      "zipp                       3.17.0\n"
     ]
    },
    {
     "ename": "ImportError",
     "evalue": "cannot import name 'AzureOpenAI' from 'openai' (C:\\Users\\gkamhi\\AppData\\Local\\Packages\\PythonSoftwareFoundation.Python.3.11_qbz5n2kfra8p0\\LocalCache\\local-packages\\Python311\\site-packages\\openai\\__init__.py)",
     "output_type": "error",
     "traceback": [
      "\u001b[1;31m---------------------------------------------------------------------------\u001b[0m",
      "\u001b[1;31mImportError\u001b[0m                               Traceback (most recent call last)",
      "Cell \u001b[1;32mIn[17], line 5\u001b[0m\n\u001b[0;32m      3\u001b[0m get_ipython()\u001b[38;5;241m.\u001b[39msystem(\u001b[38;5;124m'\u001b[39m\u001b[38;5;124mpip install openai\u001b[39m\u001b[38;5;124m'\u001b[39m)\n\u001b[0;32m      4\u001b[0m get_ipython()\u001b[38;5;241m.\u001b[39msystem(\u001b[38;5;124m'\u001b[39m\u001b[38;5;124mpip list\u001b[39m\u001b[38;5;124m'\u001b[39m)\n\u001b[1;32m----> 5\u001b[0m \u001b[38;5;28;01mfrom\u001b[39;00m \u001b[38;5;21;01mopenai\u001b[39;00m \u001b[38;5;28;01mimport\u001b[39;00m AzureOpenAI\n\u001b[0;32m      6\u001b[0m \u001b[38;5;28;01mimport\u001b[39;00m \u001b[38;5;21;01mdotenv\u001b[39;00m\n",
      "\u001b[1;31mImportError\u001b[0m: cannot import name 'AzureOpenAI' from 'openai' (C:\\Users\\gkamhi\\AppData\\Local\\Packages\\PythonSoftwareFoundation.Python.3.11_qbz5n2kfra8p0\\LocalCache\\local-packages\\Python311\\site-packages\\openai\\__init__.py)"
     ]
    }
   ],
   "source": [
    "import os\n",
    "import base64\n",
    "!pip install openai\n",
    "!pip list\n",
    "from openai import AzureOpenAI\n",
    "import dotenv"
   ]
  },
  {
   "cell_type": "code",
   "execution_count": null,
   "id": "bdf3136b",
   "metadata": {},
   "outputs": [],
   "source": []
  },
  {
   "cell_type": "markdown",
   "id": "a81556523b04feb3",
   "metadata": {},
   "source": [
    "## Load the relevant environment variables"
   ]
  },
  {
   "cell_type": "code",
   "execution_count": null,
   "id": "01435adc",
   "metadata": {},
   "outputs": [],
   "source": [
    "dotenv.load_dotenv()\n",
    "\n",
    "endpoint = os.getenv(\"ENDPOINT_URL\", \"https://gilak-m7vuff9p-swedencentral.openai.azure.com/\")\n",
    "deployment = os.getenv(\"DEPLOYMENT_NAME\", \"gpt-4-32k\")\n",
    "subscription_key = os.getenv(\"AZURE_OPENAI_API_KEY\", \"C9NYG6dTbxV1HdWXj8VK71IeJVhhT3k2FC4Rta7udcBfiUKq69SnJQQJ99BCACfhMk5XJ3w3AAAAACOGwIub\")"
   ]
  },
  {
   "cell_type": "markdown",
   "id": "63504e0c",
   "metadata": {},
   "source": [
    "\n",
    "## Initialize Azure OpenAI Service client with key-based authentication"
   ]
  },
  {
   "cell_type": "code",
   "execution_count": null,
   "id": "2e5add1d",
   "metadata": {},
   "outputs": [],
   "source": [
    "client = AzureOpenAI(\n",
    "    azure_endpoint=endpoint,\n",
    "    api_key=subscription_key,\n",
    "    api_version=\"2024-05-01-preview\",\n",
    ")\n",
    "# IMAGE_PATH = \"YOUR_IMAGE_PATH\"\n",
    "# encoded_image = base64.b64encode(open(IMAGE_PATH, 'rb').read()).decode('ascii')"
   ]
  },
  {
   "cell_type": "markdown",
   "id": "6fcd3554",
   "metadata": {},
   "source": [
    "## Prepare the chat prompt - System Prompt "
   ]
  },
  {
   "cell_type": "code",
   "execution_count": null,
   "id": "69fdfbb2",
   "metadata": {},
   "outputs": [],
   "source": [
    "system_prompt = \"You are an AI assistant that helps people find information.\""
   ]
  },
  {
   "cell_type": "markdown",
   "id": "b1afe33f",
   "metadata": {},
   "source": [
    "## Prepare the chat prompt - User Prompt "
   ]
  },
  {
   "cell_type": "code",
   "execution_count": null,
   "id": "27574206",
   "metadata": {},
   "outputs": [],
   "source": [
    "user_prompt = \"What is the capital of Finland?\""
   ]
  },
  {
   "cell_type": "code",
   "execution_count": null,
   "id": "11a0d31a7b0843a9",
   "metadata": {},
   "outputs": [],
   "source": [
    "chat_prompt = [\n",
    "    {\n",
    "        \"role\": \"system\",\n",
    "        \"content\": [\n",
    "            {\n",
    "                \"type\": \"text\",\n",
    "                \"text\": system_prompt\n",
    "            }\n",
    "        ]\n",
    "    },\n",
    "\n",
    "    {\n",
    "        \"role\": \"user\",\n",
    "        \"content\": [\n",
    "            {\n",
    "                \"type\": \"text\",\n",
    "                \"text\": user_prompt\n",
    "            }\n",
    "        ]\n",
    "    }\n",
    "]\n",
    "\n",
    "messages = chat_prompt"
   ]
  },
  {
   "cell_type": "markdown",
   "id": "8f66a478",
   "metadata": {},
   "source": [
    "## Ask LLM (generate chat completion) "
   ]
  },
  {
   "cell_type": "code",
   "execution_count": null,
   "metadata": {},
   "outputs": [],
   "source": [
    "completion = client.chat.completions.create(\n",
    "    model=deployment,\n",
    "    messages=messages,\n",
    "    max_tokens=800,\n",
    "    temperature=0.7,\n",
    "    top_p=0.95,\n",
    "    frequency_penalty=0,\n",
    "    presence_penalty=0,\n",
    "    stop=None,\n",
    "    stream=False\n",
    ")"
   ]
  },
  {
   "cell_type": "markdown",
   "id": "79cb2675",
   "metadata": {},
   "source": [
    "## Now let's see the result:\n",
    "\n"
   ]
  },
  {
   "cell_type": "code",
   "execution_count": null,
   "id": "e1ad22d9153bf651",
   "metadata": {},
   "outputs": [],
   "source": [
    "print(completion.to_json())\n",
    "print(completion.model_dump_json(indent=3))"
   ]
  },
  {
   "cell_type": "markdown",
   "id": "96fc6f71",
   "metadata": {},
   "source": [
    "## And specifically just the answer from the LLM:\n"
   ]
  },
  {
   "cell_type": "code",
   "execution_count": null,
   "id": "f2754110",
   "metadata": {},
   "outputs": [],
   "source": [
    "\n",
    "print(\"-\" * 40, \"\\nResponse from LLM:\\n\")\n",
    "print(completion.choices[0].message.content)\n",
    "print(\"\\n\", \"-\" * 40)"
   ]
  },
  {
   "cell_type": "markdown",
   "id": "19cdcc75",
   "metadata": {},
   "source": [
    "## Overall Token consumption "
   ]
  },
  {
   "cell_type": "code",
   "execution_count": null,
   "id": "8519b85a",
   "metadata": {},
   "outputs": [],
   "source": [
    "print(\"-\" * 40, \"\\n\")\n",
    "print(f\"$ prompt_tokens: {completion.usage.prompt_tokens}\")\n",
    "print(f\"$ completion_tokens: {completion.usage.completion_tokens}\")\n",
    "print(f\"$ total_tokens: {completion.usage.total_tokens}\")\n",
    "print(\"-\" * 40, \"\\n\")"
   ]
  }
 ],
 "metadata": {
  "kernelspec": {
   "display_name": "Python 3",
   "language": "python",
   "name": "python3"
  },
  "language_info": {
   "codemirror_mode": {
    "name": "ipython",
    "version": 3
   },
   "file_extension": ".py",
   "mimetype": "text/x-python",
   "name": "python",
   "nbconvert_exporter": "python",
   "pygments_lexer": "ipython3",
   "version": "3.11.9"
  }
 },
 "nbformat": 4,
 "nbformat_minor": 5
}
